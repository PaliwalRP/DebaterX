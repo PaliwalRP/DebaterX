{
 "cells": [
  {
   "cell_type": "code",
   "execution_count": 1,
   "metadata": {
    "id": "CEwezqplT-Z0"
   },
   "outputs": [],
   "source": [
    "import numpy as np\n",
    "import nltk\n",
    "import string\n",
    "import random\n",
    "import speech_recognition as sr\n",
    "import pyttsx3\n",
    "from IPython.display import clear_output\n",
    "import sys"
   ]
  },
  {
   "cell_type": "code",
   "execution_count": 2,
   "metadata": {
    "colab": {
     "base_uri": "https://localhost:8080/"
    },
    "id": "8MmM2PfxVcVn",
    "outputId": "b38453f1-6201-4b1b-c91a-1b9bf54784f9"
   },
   "outputs": [],
   "source": [
    "def clear():\n",
    "  \n",
    "    # for windows\n",
    "    if name == 'nt':\n",
    "        _ = system('cls')\n",
    "  \n",
    "    # for mac and linux(here, os.name is 'posix')\n",
    "    else:\n",
    "        _ = system('clear')  \n",
    "# now call function we defined above"
   ]
  },
  {
   "cell_type": "code",
   "execution_count": null,
   "metadata": {},
   "outputs": [],
   "source": []
  },
  {
   "cell_type": "markdown",
   "metadata": {
    "id": "mIJhnQ1ldlDb"
   },
   "source": [
    "# Text Preprocessing"
   ]
  },
  {
   "cell_type": "code",
   "execution_count": 3,
   "metadata": {
    "id": "_AYGdRzJdPQb"
   },
   "outputs": [],
   "source": [
    "lemmer = nltk.stem.WordNetLemmatizer()\n",
    "def LemTokens (tokens): \n",
    "  return [lemmer.lemmatize(token) for token in tokens] \n",
    "remove_punct_dict = dict((ord(punct), None) for punct in string.punctuation)\n",
    "def LemNormalize(text): \n",
    "  return LemTokens (nltk.word_tokenize(text.lower ().translate(remove_punct_dict)))"
   ]
  },
  {
   "cell_type": "markdown",
   "metadata": {
    "id": "uXAflgbBgU3M"
   },
   "source": [
    "# Defining the greeting message"
   ]
  },
  {
   "cell_type": "code",
   "execution_count": 4,
   "metadata": {
    "id": "3udV_6xDgcqS"
   },
   "outputs": [],
   "source": [
    "GREET_INPUTS = (\"hello\", \"hii\", \"hi\", \"hey\", \"good morning\",\"morning\", \"gm\",\"whatsup\",\"hy\",\"how you doing ?\",\"How are you ?\")\n",
    "GREET_RESPONSES = [\"hii, DebaterX can see a beautifull face\",\"hey their\", \"hello there\",\"Good to see you mate, I'm DebaterX\",\"Let's have a good converstation\",\"Lets have a fruitfull debate \",\"What's on your mind ? , DebaterX is very curious !\",\"I can see you have a good idea inside you ! Tell me !, DebaterX Can't Wait !\",]\n",
    "Extra_greet=\"name\"\n",
    "res=[\"My name is DebaterX\",\"I'm DebaterX\",\"People call me DebaterX\"]\n",
    "def greet(sentence):\n",
    "    for t in sentence.split():\n",
    "        if(t==Extra_greet):\n",
    "            return random.choice(res)\n",
    "    for word in sentence.split():\n",
    "     if word.lower() in GREET_INPUTS:\n",
    "      return random.choice(GREET_RESPONSES)\n",
    "    else:\n",
    "        return None"
   ]
  },
  {
   "cell_type": "markdown",
   "metadata": {
    "id": "d7iFRmi7iCm4"
   },
   "source": [
    "# Responce Generation"
   ]
  },
  {
   "cell_type": "code",
   "execution_count": 5,
   "metadata": {
    "id": "3ZvWx9ZTiMqi"
   },
   "outputs": [],
   "source": [
    "from sklearn.feature_extraction.text import TfidfVectorizer \n",
    "from sklearn.metrics.pairwise import cosine_similarity"
   ]
  },
  {
   "cell_type": "code",
   "execution_count": 6,
   "metadata": {
    "id": "8hvk3UMClbnO"
   },
   "outputs": [],
   "source": [
    "def response(user_response): \n",
    "  robo1_response=''\n",
    "  TfidfVec = TfidfVectorizer(tokenizer=LemNormalize)\n",
    "  tfidf = TfidfVec.fit_transform(sent_tokens)\n",
    "  vals = cosine_similarity(tfidf[-1], tfidf) \n",
    "  idx = vals.argsort()[0][-2] \n",
    "  flat = vals.flatten()\n",
    "  flat.sort()\n",
    "  req_tfidf = flat[-2]\n",
    "  if (req_tfidf==0): \n",
    "    robo1_response = robo1_response+\"I am sorry! I don't understand you\" \n",
    "    return robo1_response\n",
    "  else: \n",
    "    robo1_response = robo1_response+sent_tokens[idx] \n",
    "    return robo1_response"
   ]
  },
  {
   "cell_type": "code",
   "execution_count": 7,
   "metadata": {},
   "outputs": [],
   "source": [
    "def speak(command):\n",
    "    eng=pyttsx3.init()\n",
    "    eng.say(command)\n",
    "    eng.runAndWait()\n",
    "    "
   ]
  },
  {
   "cell_type": "markdown",
   "metadata": {
    "id": "Cg3olgVunXms"
   },
   "source": [
    "# defining start/end protocols"
   ]
  },
  {
   "cell_type": "code",
   "execution_count": 8,
   "metadata": {
    "colab": {
     "base_uri": "https://localhost:8080/"
    },
    "id": "lakdUYlmnd4_",
    "outputId": "2cbda46d-2469-4972-d95b-111685d05428"
   },
   "outputs": [
    {
     "name": "stdout",
     "output_type": "stream",
     "text": [
      "Please Enter 1 To Use Speech 1\n",
      "Please Enter 1 To Mute DebaterX 2\n",
      "Oh hi ! I'm DebaterX ,I Am Programmed To Debate On The Topic Social Media ,If You Had Enough Of Me , Say Bye\n",
      "Silence please , calibirating background noise\n",
      "Calibirated , Please Speak....... : \n",
      "You said : hello \n",
      "DebaterX: What's on your mind ? , DebaterX is very curious !\n",
      "Silence please , calibirating background noise\n",
      "Calibirated , Please Speak....... : \n",
      "You said : social media can create awareness \n",
      "DebaterX: people use social media with very little awareness about the impact it could have.\n",
      "Silence please , calibirating background noise\n",
      "Calibirated , Please Speak....... : \n"
     ]
    },
    {
     "ename": "KeyboardInterrupt",
     "evalue": "",
     "output_type": "error",
     "traceback": [
      "\u001b[1;31m---------------------------------------------------------------------------\u001b[0m",
      "\u001b[1;31mKeyboardInterrupt\u001b[0m                         Traceback (most recent call last)",
      "\u001b[1;32m~\\AppData\\Local\\Temp/ipykernel_11632/2873297282.py\u001b[0m in \u001b[0;36m<module>\u001b[1;34m\u001b[0m\n\u001b[0;32m     85\u001b[0m             \u001b[0mr\u001b[0m\u001b[1;33m.\u001b[0m\u001b[0madjust_for_ambient_noise\u001b[0m\u001b[1;33m(\u001b[0m\u001b[0mmic\u001b[0m\u001b[1;33m,\u001b[0m\u001b[0mduration\u001b[0m\u001b[1;33m=\u001b[0m\u001b[1;36m0.9\u001b[0m\u001b[1;33m)\u001b[0m\u001b[1;33m\u001b[0m\u001b[1;33m\u001b[0m\u001b[0m\n\u001b[0;32m     86\u001b[0m             \u001b[0mprint\u001b[0m\u001b[1;33m(\u001b[0m\u001b[1;34m\"Calibirated , Please Speak....... : \"\u001b[0m\u001b[1;33m)\u001b[0m\u001b[1;33m\u001b[0m\u001b[1;33m\u001b[0m\u001b[0m\n\u001b[1;32m---> 87\u001b[1;33m             \u001b[0maudio\u001b[0m\u001b[1;33m=\u001b[0m\u001b[0mr\u001b[0m\u001b[1;33m.\u001b[0m\u001b[0mlisten\u001b[0m\u001b[1;33m(\u001b[0m\u001b[0mmic\u001b[0m\u001b[1;33m)\u001b[0m\u001b[1;33m\u001b[0m\u001b[1;33m\u001b[0m\u001b[0m\n\u001b[0m\u001b[0;32m     88\u001b[0m             \u001b[0mmytext\u001b[0m\u001b[1;33m=\u001b[0m\u001b[0mr\u001b[0m\u001b[1;33m.\u001b[0m\u001b[0mrecognize_google\u001b[0m\u001b[1;33m(\u001b[0m\u001b[0maudio\u001b[0m\u001b[1;33m)\u001b[0m\u001b[1;33m\u001b[0m\u001b[1;33m\u001b[0m\u001b[0m\n\u001b[0;32m     89\u001b[0m             \u001b[0mmytext\u001b[0m\u001b[1;33m=\u001b[0m\u001b[0mmytext\u001b[0m\u001b[1;33m.\u001b[0m\u001b[0mlower\u001b[0m\u001b[1;33m(\u001b[0m\u001b[1;33m)\u001b[0m\u001b[1;33m\u001b[0m\u001b[1;33m\u001b[0m\u001b[0m\n",
      "\u001b[1;32m~\\AppData\\Local\\Packages\\PythonSoftwareFoundation.Python.3.9_qbz5n2kfra8p0\\LocalCache\\local-packages\\Python39\\site-packages\\speech_recognition\\__init__.py\u001b[0m in \u001b[0;36mlisten\u001b[1;34m(self, source, timeout, phrase_time_limit, snowboy_configuration)\u001b[0m\n\u001b[0;32m    618\u001b[0m                         \u001b[1;32mraise\u001b[0m \u001b[0mWaitTimeoutError\u001b[0m\u001b[1;33m(\u001b[0m\u001b[1;34m\"listening timed out while waiting for phrase to start\"\u001b[0m\u001b[1;33m)\u001b[0m\u001b[1;33m\u001b[0m\u001b[1;33m\u001b[0m\u001b[0m\n\u001b[0;32m    619\u001b[0m \u001b[1;33m\u001b[0m\u001b[0m\n\u001b[1;32m--> 620\u001b[1;33m                     \u001b[0mbuffer\u001b[0m \u001b[1;33m=\u001b[0m \u001b[0msource\u001b[0m\u001b[1;33m.\u001b[0m\u001b[0mstream\u001b[0m\u001b[1;33m.\u001b[0m\u001b[0mread\u001b[0m\u001b[1;33m(\u001b[0m\u001b[0msource\u001b[0m\u001b[1;33m.\u001b[0m\u001b[0mCHUNK\u001b[0m\u001b[1;33m)\u001b[0m\u001b[1;33m\u001b[0m\u001b[1;33m\u001b[0m\u001b[0m\n\u001b[0m\u001b[0;32m    621\u001b[0m                     \u001b[1;32mif\u001b[0m \u001b[0mlen\u001b[0m\u001b[1;33m(\u001b[0m\u001b[0mbuffer\u001b[0m\u001b[1;33m)\u001b[0m \u001b[1;33m==\u001b[0m \u001b[1;36m0\u001b[0m\u001b[1;33m:\u001b[0m \u001b[1;32mbreak\u001b[0m  \u001b[1;31m# reached end of the stream\u001b[0m\u001b[1;33m\u001b[0m\u001b[1;33m\u001b[0m\u001b[0m\n\u001b[0;32m    622\u001b[0m                     \u001b[0mframes\u001b[0m\u001b[1;33m.\u001b[0m\u001b[0mappend\u001b[0m\u001b[1;33m(\u001b[0m\u001b[0mbuffer\u001b[0m\u001b[1;33m)\u001b[0m\u001b[1;33m\u001b[0m\u001b[1;33m\u001b[0m\u001b[0m\n",
      "\u001b[1;32m~\\AppData\\Local\\Packages\\PythonSoftwareFoundation.Python.3.9_qbz5n2kfra8p0\\LocalCache\\local-packages\\Python39\\site-packages\\speech_recognition\\__init__.py\u001b[0m in \u001b[0;36mread\u001b[1;34m(self, size)\u001b[0m\n\u001b[0;32m    159\u001b[0m \u001b[1;33m\u001b[0m\u001b[0m\n\u001b[0;32m    160\u001b[0m         \u001b[1;32mdef\u001b[0m \u001b[0mread\u001b[0m\u001b[1;33m(\u001b[0m\u001b[0mself\u001b[0m\u001b[1;33m,\u001b[0m \u001b[0msize\u001b[0m\u001b[1;33m)\u001b[0m\u001b[1;33m:\u001b[0m\u001b[1;33m\u001b[0m\u001b[1;33m\u001b[0m\u001b[0m\n\u001b[1;32m--> 161\u001b[1;33m             \u001b[1;32mreturn\u001b[0m \u001b[0mself\u001b[0m\u001b[1;33m.\u001b[0m\u001b[0mpyaudio_stream\u001b[0m\u001b[1;33m.\u001b[0m\u001b[0mread\u001b[0m\u001b[1;33m(\u001b[0m\u001b[0msize\u001b[0m\u001b[1;33m,\u001b[0m \u001b[0mexception_on_overflow\u001b[0m\u001b[1;33m=\u001b[0m\u001b[1;32mFalse\u001b[0m\u001b[1;33m)\u001b[0m\u001b[1;33m\u001b[0m\u001b[1;33m\u001b[0m\u001b[0m\n\u001b[0m\u001b[0;32m    162\u001b[0m \u001b[1;33m\u001b[0m\u001b[0m\n\u001b[0;32m    163\u001b[0m         \u001b[1;32mdef\u001b[0m \u001b[0mclose\u001b[0m\u001b[1;33m(\u001b[0m\u001b[0mself\u001b[0m\u001b[1;33m)\u001b[0m\u001b[1;33m:\u001b[0m\u001b[1;33m\u001b[0m\u001b[1;33m\u001b[0m\u001b[0m\n",
      "\u001b[1;32m~\\AppData\\Local\\Packages\\PythonSoftwareFoundation.Python.3.9_qbz5n2kfra8p0\\LocalCache\\local-packages\\Python39\\site-packages\\pyaudio.py\u001b[0m in \u001b[0;36mread\u001b[1;34m(self, num_frames, exception_on_overflow)\u001b[0m\n\u001b[0;32m    606\u001b[0m                           paCanNotReadFromAnOutputOnlyStream)\n\u001b[0;32m    607\u001b[0m \u001b[1;33m\u001b[0m\u001b[0m\n\u001b[1;32m--> 608\u001b[1;33m         \u001b[1;32mreturn\u001b[0m \u001b[0mpa\u001b[0m\u001b[1;33m.\u001b[0m\u001b[0mread_stream\u001b[0m\u001b[1;33m(\u001b[0m\u001b[0mself\u001b[0m\u001b[1;33m.\u001b[0m\u001b[0m_stream\u001b[0m\u001b[1;33m,\u001b[0m \u001b[0mnum_frames\u001b[0m\u001b[1;33m,\u001b[0m \u001b[0mexception_on_overflow\u001b[0m\u001b[1;33m)\u001b[0m\u001b[1;33m\u001b[0m\u001b[1;33m\u001b[0m\u001b[0m\n\u001b[0m\u001b[0;32m    609\u001b[0m \u001b[1;33m\u001b[0m\u001b[0m\n\u001b[0;32m    610\u001b[0m     \u001b[1;32mdef\u001b[0m \u001b[0mget_read_available\u001b[0m\u001b[1;33m(\u001b[0m\u001b[0mself\u001b[0m\u001b[1;33m)\u001b[0m\u001b[1;33m:\u001b[0m\u001b[1;33m\u001b[0m\u001b[1;33m\u001b[0m\u001b[0m\n",
      "\u001b[1;31mKeyboardInterrupt\u001b[0m: "
     ]
    }
   ],
   "source": [
    "print(\"Oh hi, I'm DebaterX ,  I Am Programmed To Debate On The Following Topics,If You Had Enough Of Me ,Say Bye\")\n",
    "speak(\"Oh hiiii     , I'm DebaterX ,  I Am Programmed To Debate On The Following Topics  ,  If You Had Enough Of Me , Say Bye\")\n",
    "speak(\"DebaterX Can Debate On these Topic : \")\n",
    "print(\"1) Social Media \")\n",
    "speak(\" Social Media \")\n",
    "print(\"2) Crypto Currency Or Normal Currency \")\n",
    "speak(\" Crypto Currency Or Normal Currency \")\n",
    "print(\"3) Artificial Intelligence Vs Human Intelligence \")\n",
    "speak(\" Artificial Intelligence versus Human Intelligence \")\n",
    "print(\"4) Feminism \")\n",
    "speak(\" Feminism \")\n",
    "topic=input(\"Please Enter The Topic You Want To Debate : \")\n",
    "\n",
    "for word in topic.split():\n",
    "#---------------------------------------------------------------------------------------------------------------------------------\n",
    "    #for social media\n",
    "    if(word.lower() == \"social\" or word.lower() == \"media\"):\n",
    "        print(f\"You Chose Social Media \")\n",
    "        choice=int(input(\"Please Enter 1 If You Are In Favour Of Topic Or Enter 0 If You Are In Against Of The Topic \"))\n",
    "        if(choice == 1):\n",
    "             f=open('Social_cons.txt','r',errors = 'ignore')\n",
    "        else:\n",
    "             f=open('Social_pros.txt','r',errors = 'ignore') \n",
    "        break\n",
    "#---------------------------------------------------------------------------------------------------------------------------------\n",
    "    #for mahcine vs ai\n",
    "    elif(word.lower() == \"machine\" or word.lower() ==\"intelligence\" or word.lower() ==\"artificial\"):\n",
    "        print(\"You Chose Artificial Intelligence Vs Human Intelligence \")\n",
    "        speak(\"You Chose Artificial Intelligence versus Human Intelligence \")\n",
    "        choice=int(input(\"Please Enter 1 If You Are In Favour Of Topic Or Enter 0 If You Are In Against Of The Topic \"))\n",
    "        if(choice == 1):\n",
    "             f=open('ai_con.txt','r',errors = 'ignore')\n",
    "        else:\n",
    "             f=open('ai_pro.txt','r',errors = 'ignore')\n",
    "        break\n",
    "#---------------------------------------------------------------------------------------------------------------------------------\n",
    "    #for feminism\n",
    "    elif(word.lower() == \"feminism\"):\n",
    "        print(\"You Chose Feminism\")\n",
    "        speak(\"You Chose Feminism\")\n",
    "        choice=int(input(\"Please Enter 1 If You Are In Favour Of Topic Or Enter 0 If You Are In Against Of The Topic \"))\n",
    "        if(choice == 1):\n",
    "             f=open('feminismagainst.txt','r',errors = 'ignore')\n",
    "        else:\n",
    "             f=open('feminismfavour.txt','r',errors = 'ignore')\n",
    "        break\n",
    "#---------------------------------------------------------------------------------------------------------------------------------\n",
    "    #for money vs crypto\n",
    "    elif(word.lower() == \"money\" or word.lower() == \"crypto\" or word.lower() == \"currency\" or word.lower() == \"bitcoin\"):\n",
    "        print(\"You Chose Crypto Currency Or Normal Currency\")\n",
    "        speak(\"You Chose Crypto Currency Or Normal Currency\")\n",
    "        choice=int(input(\"Please Enter 1 If You Are In Favour Of Topic Or Enter 0 If You Are In Against Of The Topic \"))\n",
    "        if(choice == 1):\n",
    "             f=open('crypto_cons.txt','r',errors = 'ignore')\n",
    "        else:\n",
    "             f=open('crypto_for.txt','r',errors = 'ignore')\n",
    "        break\n",
    "    else:\n",
    "        print(\"DebaterX Is Not Ready For This Topic , I Guess You Win ! I Will Ask My Developers To Prepare Me Better Next Time You Come \")\n",
    "        speak(\"DebaterX Is Not Ready For This Topic   ,   I Guess You Win    ,    I Will Ask My Developers To Prepare Me Better Next Time You Come\")\n",
    "        print(\"Once Again DebaterX Is Really Very Sorry\")\n",
    "        speak(\"Once Again DebaterX Is Really     Very       Sorry\")\n",
    "        clear_output(wait=False)\n",
    "        sys.exit()   \n",
    "raw_doc = f.read() \n",
    "raw_doc = raw_doc.lower() \n",
    "nltk.download ('punkt') \n",
    "nltk.download ('wordnet') \n",
    "sent_tokens = nltk.sent_tokenize(raw_doc) \n",
    "word_tokens = nltk.word_tokenize(raw_doc) \n",
    "sent_tokens[:2]\n",
    "word_tokens[:4]\n",
    "clear_output(wait=False)\n",
    "\n",
    "flag = True\n",
    "ch=int(input(\"Please Enter 1 To Use Speech \"))\n",
    "ch1=int(input(\"Please Enter 1 To Mute DebaterX \"))\n",
    "#clear_output(wait=False)\n",
    "print(\"Oh hi ! I'm DebaterX ,I Am Programmed To Debate On The Topic Social Media ,If You Had Enough Of Me , Say Bye\")\n",
    "r=sr.Recognizer()\n",
    "while(flag == True):\n",
    "    if(ch==1):\n",
    "        with sr.Microphone() as mic:\n",
    "            print(\"Silence please , calibirating background noise\")\n",
    "            r.adjust_for_ambient_noise(mic,duration=0.9)\n",
    "            print(\"Calibirated , Please Speak....... : \")\n",
    "            audio=r.listen(mic)\n",
    "            mytext=r.recognize_google(audio)\n",
    "            mytext=mytext.lower()\n",
    "            print(f\"You said : {mytext} \")\n",
    "            user_response = mytext\n",
    "    else:\n",
    "        user_response = input()\n",
    "        user_response = user_response.lower()\n",
    "    if (user_response != 'bye'):\n",
    "        \n",
    "        if (user_response == 'thanks' or user_response == 'thank you' or user_response == 'thanks for help' or user_response == 'cool'or user_response == 'cya'or user_response == 'good bye'or user_response == 'great'): \n",
    "            flag = False\n",
    "            bye_res1=[\"Was good talking to you !\",\"Goodbye! Take care\",\"What a great discussion!Let's have another one in a while!\",\"Awww ,why such a early good bye! Lets have another a debate about a differnt topic soon\",\"That was a good fight indeed!I am waiting for another one ,come back as soon as you are ready!\"]\n",
    "            temp1=random.choice(bye_res1)\n",
    "            print(f\"DebaterX: {temp1}\")\n",
    "            if(ch1!=1):\n",
    "                 speak(temp1)\n",
    "        else:\n",
    "               \n",
    "            if (greet(user_response) != None):\n",
    "                print(\"DebaterX: \"+greet(user_response))\n",
    "                if(ch1!=1): \n",
    "                    speak(greet(user_response)) \n",
    "            else: \n",
    "                sent_tokens.append(user_response)\n",
    "                word_tokens = word_tokens+nltk.word_tokenize(user_response)\n",
    "                final_words = list(set(word_tokens))\n",
    "                print(\"DebaterX: \", end=\"\")\n",
    "                print(response(user_response))\n",
    "                if(ch1!=1):\n",
    "                    speak(response(user_response))\n",
    "                sent_tokens.remove(user_response)\n",
    "    else:\n",
    "        flag=False \n",
    "        bye_res=[\"Was good talking to you !\",\"Goodbye! Take care\",\"What a great discussion!Let's have another one in a while!\",\"Awww ,why such a early good bye! Lets have another a debate about a differnt topic soon\",\"That was a good fight indeed!I am waiting for another one ,come back as soon as you are ready!\"]\n",
    "        temp=random.choice(bye_res)\n",
    "        print(f\"DebaterX: {temp}\")\n",
    "        if(ch1!=1):\n",
    "            speak(temp)"
   ]
  },
  {
   "cell_type": "markdown",
   "metadata": {},
   "source": []
  },
  {
   "cell_type": "code",
   "execution_count": null,
   "metadata": {},
   "outputs": [],
   "source": []
  },
  {
   "cell_type": "markdown",
   "metadata": {},
   "source": []
  },
  {
   "cell_type": "code",
   "execution_count": null,
   "metadata": {},
   "outputs": [],
   "source": []
  },
  {
   "cell_type": "code",
   "execution_count": null,
   "metadata": {},
   "outputs": [],
   "source": []
  },
  {
   "cell_type": "code",
   "execution_count": null,
   "metadata": {},
   "outputs": [],
   "source": []
  },
  {
   "cell_type": "code",
   "execution_count": null,
   "metadata": {},
   "outputs": [],
   "source": []
  }
 ],
 "metadata": {
  "colab": {
   "collapsed_sections": [],
   "name": "debaterX_chatbot.ipynb",
   "provenance": []
  },
  "interpreter": {
   "hash": "fe44fef87f92f48a3a32707d0df204585f471652bc0ce87358a3ce712bc24db0"
  },
  "kernelspec": {
   "display_name": "Python 3 (ipykernel)",
   "language": "python",
   "name": "python3"
  },
  "language_info": {
   "codemirror_mode": {
    "name": "ipython",
    "version": 3
   },
   "file_extension": ".py",
   "mimetype": "text/x-python",
   "name": "python",
   "nbconvert_exporter": "python",
   "pygments_lexer": "ipython3",
   "version": "3.9.7"
  }
 },
 "nbformat": 4,
 "nbformat_minor": 1
}
